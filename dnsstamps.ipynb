{
 "cells": [
  {
   "cell_type": "markdown",
   "metadata": {},
   "source": [
    "## Collecting IOCs to Detect Encrypted DNS\n",
    "\n",
    "There has been some [attention](https://www.securitymagazine.com/articles/91674-disappearing-dns-dot-and-doh-where-one-letter-makes-a-great-difference) given lately to different protocols used to encrypt DNS traffic and their pros and cons with respect to privacy and security.  I have written several recent blog posts on the reality of the situation and what we, as a community, can do to reduce the risk associated with the use of any encrypted DNS protocol being used on our networks.\n",
    "\n",
    "In one of those posts I talk about using the publicly known list of DNS servers that support DoT, DoH and DNSCrypt as IOCs to identify potential usage of encrypted DNS.  This list can be found [here](https://dnscrypt.info/public-servers/).  Once on that site you can click on each row in the list to view the server information including the IP and domain.\n",
    "\n",
    "![dns stamps](dnsstampstable.png)\n",
    "\n",
    "That's great and all, but I don't think anyone here wants to click through a bunch of tables and copy / paste IPs and Domains in order to get all of the destinations so we can add them to our IOC lists.  I figured that information in those tables must be coming from _somewhere_ so I started to poke around in the [dnscrypt github](https://github.com/dnscrypt) to see if I could find them.\n",
    "\n",
    "It turns out that there is a [repo](https://github.com/DNSCrypt/dnscrypt-resolvers) that contains exactly what I was looking for.  According to the readme, the list of servers is located [in the repo](https://github.com/DNSCrypt/dnscrypt-resolvers/tree/master/v2), and also hosted [here](https://download.dnscrypt.info/dnscrypt-resolvers/v2/).\n",
    "\n",
    "This immediately revealed a new issue, the format of the files is markdown, and the dns server information is in a format called [DNSStamps](https://dnscrypt.info/stamps-specifications/).  DNSStamps are the format used by various DNS Encryption tools (like dnscrypt-proxy), but they're not a convienent format for collecting IOCs from them.\n",
    "\n",
    "![dns stamp example](dnsstampexample.png)\n",
    "\n",
    "TLDR;\n",
    "\n",
    "We found a source of structured text containing Domains and IPs of public DNS servers supporting encryption. However, that format is not convenient, lets convert it to something we can use for analysis.\n",
    "\n",
    "### Shut Up and Show Me Code\n",
    "\n",
    "Thankfully, there's already a [python module for parsing dns stamps](https://pypi.org/project/dnsstamps/), and it's very simple to use.  But first we'll need to download the files with the dnsstamps and get rid of lines we don't need.  We'll start with the first file: [onion-services.md](https://download.dnscrypt.info/dnscrypt-resolvers/v2/onion-services.md).  Most of my programming lately has been with functional languages, which is why you may notice the use of `filter` and `map` in favor of list comprehensions."
   ]
  },
  {
   "cell_type": "code",
   "execution_count": 50,
   "metadata": {},
   "outputs": [
    {
     "data": {
      "text/plain": [
       "\"# DNS servers as .onion services\\n\\nAll DNSCrypt and DoH servers are accessible over Tor, via exit nodes.\\nThis is safe as all the transactions are encrypted and authenticated.\\n\\nHowever, it may be faster to directly access a server as an onion\\nservice. This requires specifically configured servers.\\n\\nThe servers below are not accessible without Tor.\\n\\nTo use that list, add this to the `[sources]` section of your\\n`dnscrypt-proxy.toml` configuration file:\\n\\n    [sources.'onion-services']\\n    urls = ['https://raw.githubusercontent.com/DNSCrypt/dnscrypt-resolvers/master/v2/onion-services.md', 'https://download.dnscrypt.info/resolvers-list/v2/onion-services.md']\\n    minisign_key = 'RWQf6LRCGA9i53mlYecO4IzT51TGPpvWucNSCh1CBM0QTaLn73Y7GFO3'\\n    cache_file = 'onion-services.md'\\n\\n--\\n\\n\\n## onion-cloudflare\\n\\nCloudflare Onion Service\\n\\nsdns://AgcAAAAAAAAAACC0WWFtenR5met-s8i0oiShMtYstulWSybPBq-zBUEMNT5kbnM0dG9ycG5sZnMyaWZ1ejJzMnlmM2ZjN3JkbXNiaG02cnc3NWV1ajM1cGFjNmFwMjV6Z3FhZC5vbmlvbgovZG5zLXF1ZXJ5\\n\""
      ]
     },
     "execution_count": 50,
     "metadata": {},
     "output_type": "execute_result"
    }
   ],
   "source": [
    "import requests\n",
    "\n",
    "r = requests.get(\"https://download.dnscrypt.info/dnscrypt-resolvers/v2/onion-services.md\")\n",
    "t = r.text\n",
    "t"
   ]
  },
  {
   "cell_type": "markdown",
   "metadata": {},
   "source": [
    "### Extracting Only the DNSStamps\n",
    "Next we'll need to extract only the lines that have the dns stamps; those that start with `sdns://`.  Of course there's plenty of ways to go about this, but I found the following to be simple and effective enough (and I can't think of any obvious gotchas)."
   ]
  },
  {
   "cell_type": "code",
   "execution_count": 51,
   "metadata": {},
   "outputs": [
    {
     "data": {
      "text/plain": [
       "['sdns://AgcAAAAAAAAAACC0WWFtenR5met-s8i0oiShMtYstulWSybPBq-zBUEMNT5kbnM0dG9ycG5sZnMyaWZ1ejJzMnlmM2ZjN3JkbXNiaG02cnc3NWV1ajM1cGFjNmFwMjV6Z3FhZC5vbmlvbgovZG5zLXF1ZXJ5']"
      ]
     },
     "execution_count": 51,
     "metadata": {},
     "output_type": "execute_result"
    }
   ],
   "source": [
    "stamps = list(filter(lambda x: x.startswith('sdns://'), t.splitlines()))\n",
    "stamps"
   ]
  },
  {
   "cell_type": "markdown",
   "metadata": {},
   "source": [
    "### Parsing the Stamps\n",
    "Now we'll used the dnsstamps python module to parse all the stamps in the output (which for this example is only one stamp).  If you don't already have dnsstamps installed you can run the following cell."
   ]
  },
  {
   "cell_type": "code",
   "execution_count": 52,
   "metadata": {},
   "outputs": [
    {
     "name": "stdout",
     "output_type": "stream",
     "text": [
      "Requirement already satisfied: dnsstamps in /usr/local/Cellar/jupyterlab/2.1.0_1/libexec/lib/python3.8/site-packages (1.3.0)\n",
      "\u001b[33mWARNING: You are using pip version 20.0.2; however, version 20.1 is available.\n",
      "You should consider upgrading via the '/usr/local/Cellar/jupyterlab/2.1.0_1/libexec/bin/python3.8 -m pip install --upgrade pip' command.\u001b[0m\n"
     ]
    }
   ],
   "source": [
    "import sys\n",
    "!{sys.executable} -m pip install dnsstamps"
   ]
  },
  {
   "cell_type": "code",
   "execution_count": 25,
   "metadata": {},
   "outputs": [
    {
     "name": "stdout",
     "output_type": "stream",
     "text": [
      "DoH DNS stamp\n",
      "=============\n",
      "\n",
      "DNSSEC: yes\n",
      "No logs: yes\n",
      "No filter: yes\n",
      "IP Address: \n",
      "Hashes: [b'b459616d7a747999eb7eb3c8b4a224a132d62cb6e9564b26cf06afb305410c35']\n",
      "Hostname: dns4torpnlfs2ifuz2s2yf3fc7rdmsbhm6rw75euj35pac6ap25zgqad.onion\n",
      "Path: /dns-query\n",
      "Bootstrap IPs: []\n",
      "\n",
      "sdns://AgcAAAAAAAAAACC0WWFtenR5met-s8i0oiShMtYstulWSybPBq-zBUEMNT5kbnM0dG9ycG5sZnMyaWZ1ejJzMnlmM2ZjN3JkbXNiaG02cnc3NWV1ajM1cGFjNmFwMjV6Z3FhZC5vbmlvbgovZG5zLXF1ZXJ5\n"
     ]
    }
   ],
   "source": [
    "import dnsstamps\n",
    "ps = map(lambda x: dnsstamps.format(dnsstamps.parse(x)), stamps)\n",
    "_ = list(ps)"
   ]
  },
  {
   "cell_type": "markdown",
   "metadata": {},
   "source": [
    "That will print out the decoded stamp values, which includes some of the information that we're after (although this one understandably doesn't include an IP since it's a `.onion` address).  Instead of printing it out, we can just use the object that `dnsstamps.parse()` returns, which can be seen in the source code [here](https://github.com/chrisss404/python-dnsstamps/blob/master/dnsstamps/formatter/formatter.py).\n",
    "\n",
    "We'll try this out on the example that we currently have."
   ]
  },
  {
   "cell_type": "code",
   "execution_count": 53,
   "metadata": {},
   "outputs": [
    {
     "data": {
      "text/plain": [
       "<dnsstamps.parameter.Parameter at 0x109458d90>"
      ]
     },
     "execution_count": 53,
     "metadata": {},
     "output_type": "execute_result"
    }
   ],
   "source": [
    "stamp = dnsstamps.parse(list(stamps)[0])\n",
    "stamp"
   ]
  },
  {
   "cell_type": "markdown",
   "metadata": {},
   "source": [
    "We can even use tab completion in the notebook to show us what the attributes are.  Some notebook-ception for you:\n",
    "![tab completion](tabcompletion.png)"
   ]
  },
  {
   "cell_type": "code",
   "execution_count": 55,
   "metadata": {},
   "outputs": [
    {
     "data": {
      "text/plain": [
       "''"
      ]
     },
     "execution_count": 55,
     "metadata": {},
     "output_type": "execute_result"
    }
   ],
   "source": [
    "stamp.address"
   ]
  },
  {
   "cell_type": "markdown",
   "metadata": {},
   "source": [
    "(note that if a field is empty it == '', and since '' is _falsey_ in python, we can use `None` instead of `!= ''`)"
   ]
  },
  {
   "cell_type": "code",
   "execution_count": 56,
   "metadata": {},
   "outputs": [
    {
     "data": {
      "text/plain": [
       "'dns4torpnlfs2ifuz2s2yf3fc7rdmsbhm6rw75euj35pac6ap25zgqad.onion'"
      ]
     },
     "execution_count": 56,
     "metadata": {},
     "output_type": "execute_result"
    }
   ],
   "source": [
    "stamp.hostname"
   ]
  },
  {
   "cell_type": "markdown",
   "metadata": {},
   "source": [
    "Seems easy enough.  Let's write a function that will allow us do this for any of the files.  "
   ]
  },
  {
   "cell_type": "code",
   "execution_count": 57,
   "metadata": {},
   "outputs": [],
   "source": [
    "def parseDnsStampFromUrl(url):\n",
    "    r = requests.get(url)\n",
    "    stamps = filter(lambda x: x.startswith('sdns://'),r.text.splitlines())\n",
    "    parsed_stamps = list(map(dnsstamps.parse, stamps))\n",
    "    domains = filter(None, map(lambda x: x.hostname, parsed_stamps))\n",
    "    ips = filter(None, map(lambda x: x.address, parsed_stamps))\n",
    "    return {'domains': list(domains),'ips': list(ips) }"
   ]
  },
  {
   "cell_type": "markdown",
   "metadata": {},
   "source": [
    "Alright, let's try it on our first url:"
   ]
  },
  {
   "cell_type": "code",
   "execution_count": 58,
   "metadata": {},
   "outputs": [
    {
     "data": {
      "text/plain": [
       "{'domains': ['dns4torpnlfs2ifuz2s2yf3fc7rdmsbhm6rw75euj35pac6ap25zgqad.onion'],\n",
       " 'ips': []}"
      ]
     },
     "execution_count": 58,
     "metadata": {},
     "output_type": "execute_result"
    }
   ],
   "source": [
    "parseDnsStampFromUrl(\"https://download.dnscrypt.info/dnscrypt-resolvers/v2/onion-services.md\")"
   ]
  },
  {
   "cell_type": "markdown",
   "metadata": {},
   "source": [
    "Awesome.  So now all we have to do is map that function over the list of urls from [the list of dnsstamp files](https://download.dnscrypt.info/dnscrypt-resolvers/v2/).  Of course, there's so few files that we _could_ just copy / paste them into this notebook... but what if they add new files?  And perhaps more importantly, where's the fun in that? Let's burden our code with another dependancy :D"
   ]
  },
  {
   "cell_type": "code",
   "execution_count": 35,
   "metadata": {},
   "outputs": [
    {
     "name": "stdout",
     "output_type": "stream",
     "text": [
      "Collecting beautifulsoup4\n",
      "  Downloading beautifulsoup4-4.9.0-py3-none-any.whl (109 kB)\n",
      "\u001b[K     |████████████████████████████████| 109 kB 1.3 MB/s eta 0:00:01\n",
      "\u001b[?25hCollecting soupsieve>1.2\n",
      "  Downloading soupsieve-2.0-py2.py3-none-any.whl (32 kB)\n",
      "Installing collected packages: soupsieve, beautifulsoup4\n",
      "Successfully installed beautifulsoup4-4.9.0 soupsieve-2.0\n"
     ]
    }
   ],
   "source": [
    "!{sys.executable} -m pip install beautifulsoup4"
   ]
  },
  {
   "cell_type": "code",
   "execution_count": 59,
   "metadata": {},
   "outputs": [
    {
     "data": {
      "text/plain": [
       "['onion-services.md',\n",
       " 'opennic.md',\n",
       " 'parental-control.md',\n",
       " 'public-resolvers.md',\n",
       " 'relays.md']"
      ]
     },
     "execution_count": 59,
     "metadata": {},
     "output_type": "execute_result"
    }
   ],
   "source": [
    "from bs4 import BeautifulSoup\n",
    "url = \"https://download.dnscrypt.info/dnscrypt-resolvers/v2/\"\n",
    "r = requests.get(url)\n",
    "soup = BeautifulSoup(r.text, 'html.parser')\n",
    "hrefs = map(lambda x: x.get('href'),soup.find_all('a'))\n",
    "md_files = filter(lambda x: x.endswith('.md'), hrefs)\n",
    "list(md_files)"
   ]
  },
  {
   "cell_type": "markdown",
   "metadata": {},
   "source": [
    "Alright, seems to work well.  Now lets functionize it.  In addition to what we did above we also need to append the original url to get the full path to each of the files."
   ]
  },
  {
   "cell_type": "code",
   "execution_count": 60,
   "metadata": {},
   "outputs": [],
   "source": [
    "def getDnsStampFileUrls(url):\n",
    "    r = requests.get(url)\n",
    "    soup = BeautifulSoup(r.text, 'html.parser')\n",
    "    hrefs = map(lambda x: x.get('href'),soup.find_all('a'))\n",
    "    md_files = filter(lambda x: x.endswith('.md'), hrefs)\n",
    "    return map(lambda x: url + x, md_files)"
   ]
  },
  {
   "cell_type": "markdown",
   "metadata": {},
   "source": [
    "Now all we have to do is add everything together."
   ]
  },
  {
   "cell_type": "code",
   "execution_count": 61,
   "metadata": {},
   "outputs": [],
   "source": [
    "url = \"https://download.dnscrypt.info/dnscrypt-resolvers/v2/\"\n",
    "urls = getDnsStampFileUrls(url)\n",
    "stamps = list(map(parseDnsStampFromUrl,urls))"
   ]
  },
  {
   "cell_type": "markdown",
   "metadata": {},
   "source": [
    "And then pull out the domains and ips:"
   ]
  },
  {
   "cell_type": "code",
   "execution_count": 62,
   "metadata": {},
   "outputs": [
    {
     "data": {
      "text/plain": [
       "{'domains': ['dns4torpnlfs2ifuz2s2yf3fc7rdmsbhm6rw75euj35pac6ap25zgqad.onion',\n",
       "  'ibksturm.synology.me',\n",
       "  'doh.seby.io:8443',\n",
       "  'doh-2.seby.io:443',\n",
       "  'doh.familyshield.opendns.com',\n",
       "  'family.cloudflare-dns.com',\n",
       "  'doh.cleanbrowsing.org',\n",
       "  'doh.cleanbrowsing.org',\n",
       "  'dns.aa.net.uk',\n",
       "  'dns.aaflalo.me',\n",
       "  'dns-nyc.aaflalo.me',\n",
       "  'dns-nyc.aaflalo.me',\n",
       "  'dns.adguard.com',\n",
       "  'dns-family.adguard.com',\n",
       "  'dns.alidns.com',\n",
       "  'dns.alekberg.net:443',\n",
       "  'dohtrial.att.net',\n",
       "  'dns.brahma.world',\n",
       "  'dns.brahma.world',\n",
       "  'doh.opendns.com',\n",
       "  'doh.opendns.com',\n",
       "  'dns.cloudflare.com',\n",
       "  'family.cloudflare-dns.com',\n",
       "  'dns.cloudflare.com',\n",
       "  'security.cloudflare-dns.com',\n",
       "  'security.cloudflare-dns.com',\n",
       "  'commons.host',\n",
       "  'dns.containerpi.com',\n",
       "  'dns.containerpi.com',\n",
       "  'odvr.nic.cz',\n",
       "  'dns.digitale-gesellschaft.ch',\n",
       "  'dns.digitale-gesellschaft.ch',\n",
       "  'dns.digitale-gesellschaft.ch',\n",
       "  'dns.digitale-gesellschaft.ch',\n",
       "  'doh.dns.sb',\n",
       "  'dns1.dnscrypt.ca:453',\n",
       "  'dns1.dnscrypt.ca:453',\n",
       "  'dns2.dnscrypt.ca:453',\n",
       "  'dns2.dnscrypt.ca:453',\n",
       "  'dnsforge.de',\n",
       "  'doh.dnslify.com',\n",
       "  'doh.centraleu.pi-dns.com',\n",
       "  'doh.centraleu.pi-dns.com',\n",
       "  'doh.cleanbrowsing.org',\n",
       "  'doh.cleanbrowsing.org',\n",
       "  'doh.cleanbrowsing.org',\n",
       "  'doh.crypto.sx',\n",
       "  'doh-ipv6.crypto.sx',\n",
       "  'doh-de.blahdns.com',\n",
       "  'doh-de.blahdns.com',\n",
       "  'doh.eastus.pi-dns.com',\n",
       "  'doh.eastus.pi-dns.com',\n",
       "  'doh-fi.blahdns.com',\n",
       "  'fi.doh.dns.snopyta.org',\n",
       "  'fi.doh.dns.snopyta.org',\n",
       "  'ibksturm.synology.me',\n",
       "  'doh-jp.blahdns.com',\n",
       "  'doh-jp.blahdns.com',\n",
       "  'doh.northeu.pi-dns.com',\n",
       "  'doh.northeu.pi-dns.com',\n",
       "  'doh-sg.blahdns.com',\n",
       "  'doh-sg.blahdns.com',\n",
       "  'doh.westus.pi-dns.com',\n",
       "  'doh.westus.pi-dns.com',\n",
       "  'doh.appliedprivacy.net',\n",
       "  'doh.ffmuc.net',\n",
       "  'doh.ffmuc.net',\n",
       "  'doh.li',\n",
       "  'doh.tiarap.org',\n",
       "  'doh.tiarap.org',\n",
       "  'doh.ffmuc.net',\n",
       "  'i.233py.com',\n",
       "  'doh.233py.com',\n",
       "  'dns.google',\n",
       "  'dns.google',\n",
       "  'jp.gridns.xyz',\n",
       "  'jp.gridns.xyz',\n",
       "  'doh.tiar.app',\n",
       "  'doh.tiar.app',\n",
       "  'public.dns.iij.jp',\n",
       "  'jp.tiar.app',\n",
       "  'jp.tiar.app',\n",
       "  'jp.tiarap.org',\n",
       "  'jp.tiarap.org',\n",
       "  'resolver-eu.lelux.fi',\n",
       "  'doh.libredns.gr',\n",
       "  'doh.libredns.gr',\n",
       "  'dns.nextdns.io',\n",
       "  'doh.powerdns.org',\n",
       "  'doh.seby.io:8443',\n",
       "  'doh-2.seby.io:443',\n",
       "  'dns.twnic.tw',\n",
       "  'ea-dns.rubyfish.cn',\n",
       "  'uw-dns.rubyfish.cn',\n",
       "  'rumpelsepp.org',\n",
       "  'dns2.alekberg.net:443',\n",
       "  'dnsse.alekberg.net:443',\n",
       "  'dns.t53.de',\n",
       "  'doh.xfinity.com'],\n",
       " 'ips': ['83.77.85.7:8443',\n",
       "  '151.80.222.79:443',\n",
       "  '[2001:470:1f15:b80::53]:443',\n",
       "  '5.189.170.196:465',\n",
       "  '198.100.148.224:443',\n",
       "  '142.4.204.111',\n",
       "  '[2607:5300:120:a8a:142:4:204:111]',\n",
       "  '142.4.205.47:443',\n",
       "  '[2607:5300:120:a8a:142:4:205:47]:443',\n",
       "  '142.4.204.111:443',\n",
       "  '45.76.113.31',\n",
       "  '45.76.113.31',\n",
       "  '139.99.222.72',\n",
       "  '139.99.222.72',\n",
       "  '176.103.130.132:5443',\n",
       "  '208.67.220.123',\n",
       "  '146.112.41.3',\n",
       "  '185.228.168.10:8443',\n",
       "  '[2a0d:2a00:1::1]:8443',\n",
       "  '185.228.168.168:8443',\n",
       "  '[2a0d:2a00:1::]:8443',\n",
       "  '1.0.0.3',\n",
       "  '78.47.64.161',\n",
       "  '163.172.180.125:443',\n",
       "  '217.169.20.23',\n",
       "  '176.56.236.175',\n",
       "  '168.235.81.167',\n",
       "  '168.235.81.167',\n",
       "  '176.103.130.130:5443',\n",
       "  '176.103.130.130',\n",
       "  '176.103.130.132:5443',\n",
       "  '176.103.130.132',\n",
       "  '[2a00:5a60::bad2:0ff]:5443',\n",
       "  '[2a00:5a60::ad2:0ff]:5443',\n",
       "  '223.5.5.5',\n",
       "  '51.15.124.208:443',\n",
       "  '51.15.124.208:443',\n",
       "  '206.189.142.179:5353',\n",
       "  '94.130.224.114',\n",
       "  '[2a01:4f8:c0c:9255::1]',\n",
       "  '139.59.48.222:4434',\n",
       "  '192.241.154.136:443',\n",
       "  '208.67.220.220',\n",
       "  '146.112.41.2',\n",
       "  '208.67.220.123',\n",
       "  '[2620:119:35::35]',\n",
       "  '[2620:0:ccc::2]',\n",
       "  '[2620:119:fc::2]',\n",
       "  '185.228.168.10:8443',\n",
       "  '[2a0d:2a00:1::1]:8443',\n",
       "  '185.228.168.168:8443',\n",
       "  '[2a0d:2a00:1::]:8443',\n",
       "  '185.228.168.9:8443',\n",
       "  '1.0.0.1',\n",
       "  '1.0.0.3',\n",
       "  '[2606:4700:4700::1111]:53',\n",
       "  '1.0.0.2',\n",
       "  '[2606:4700:4700::1112]:443',\n",
       "  '8.20.247.2',\n",
       "  '45.77.180.10',\n",
       "  '[2001:19f0:7001:5554:5400:02ff:fe57:3077]:443',\n",
       "  '162.221.207.228',\n",
       "  '167.114.84.132',\n",
       "  '81.17.31.34',\n",
       "  '84.16.240.43',\n",
       "  '185.117.118.20',\n",
       "  '212.129.46.32',\n",
       "  '185.94.193.234',\n",
       "  '109.248.149.133',\n",
       "  '178.175.139.211',\n",
       "  '185.107.80.84',\n",
       "  '5.254.96.195',\n",
       "  '128.127.104.108',\n",
       "  '23.19.67.116',\n",
       "  '64.42.181.227',\n",
       "  '173.234.56.115',\n",
       "  '155.254.29.113',\n",
       "  '104.255.175.2',\n",
       "  '209.58.147.36',\n",
       "  '64.120.5.251',\n",
       "  '185.43.135.1',\n",
       "  '93.95.226.165',\n",
       "  '41.79.69.13',\n",
       "  '[2c0f:fda8:5::2ed1:d2ec]',\n",
       "  '185.95.218.42:443',\n",
       "  '185.95.218.43:443',\n",
       "  '[2a05:fc84::42]:443',\n",
       "  '[2a05:fc84::43]:443',\n",
       "  '159.69.198.101:8443',\n",
       "  '[2a01:4f8:1c1c:6b4b::1]:8443',\n",
       "  '95.216.212.177:8443',\n",
       "  '[2a01:4f9:c010:43ce::1]:8443',\n",
       "  '45.32.55.94:8443',\n",
       "  '[2001:19f0:7001:3259:5400:02ff:fe71:0bc9]:8443',\n",
       "  '139.180.141.57:8443',\n",
       "  '[2001:19f0:4400:6bed:5400:2ff:feb1:f9fa]:8443',\n",
       "  '167.114.220.125:443',\n",
       "  '167.114.220.125',\n",
       "  '[2607:5300:61:95f:7283:11d9:0f86:e689]:443',\n",
       "  '[2607:5300:61:95f:7283:11d9:0f86:e689]',\n",
       "  '149.56.228.45:443',\n",
       "  '149.56.228.45',\n",
       "  '[2607:5300:120:b9b::200]:443',\n",
       "  '[2607:5300:120:b9b::200]',\n",
       "  '77.66.84.233',\n",
       "  '[2001:1448:243::dc2]',\n",
       "  '176.56.237.171',\n",
       "  '[2a00:d880:3:1::a6c1:2e89]',\n",
       "  '139.59.200.116:443',\n",
       "  '[2a03:b0c0:1:e0::2e3:e001]:443',\n",
       "  '78.47.64.161',\n",
       "  '[2a01:4f8:1c17:4df8::1]',\n",
       "  '176.9.93.198',\n",
       "  '185.235.81.1',\n",
       "  '88.198.91.187',\n",
       "  '[2a01:4f8:1c0c:8233::1]',\n",
       "  '104.28.0.106',\n",
       "  '[2606:4700:30::681c:6a]',\n",
       "  '159.69.198.101',\n",
       "  '[2a01:4f8:1c1c:6b4b::1]',\n",
       "  '185.213.26.187',\n",
       "  '[2a0d:5600:33:3::abcd]',\n",
       "  '95.216.212.177:8443',\n",
       "  '[2a01:4f9:c010:43ce::1]',\n",
       "  '95.216.229.153',\n",
       "  '[2a01:4f9:2a:1919::21]',\n",
       "  '45.32.55.94',\n",
       "  '[2001:19f0:7001:3259:5400:02ff:fe71:0bc9]',\n",
       "  '95.216.181.228',\n",
       "  '[2a01:4f9:c01f:4::abcd]',\n",
       "  '139.180.141.57',\n",
       "  '[2001:19f0:4400:6bed:5400:2ff:feb1:f9fa]',\n",
       "  '45.67.219.208',\n",
       "  '[2a04:bdc7:100:70::abcd]',\n",
       "  '195.30.94.28',\n",
       "  '[2001:608:a01::3]:443',\n",
       "  '104.28.28.34',\n",
       "  '[2606:4700:30::681c:1d22]',\n",
       "  '51.15.71.147:443',\n",
       "  '66.85.30.115',\n",
       "  '23.111.74.205',\n",
       "  '195.30.94.28',\n",
       "  '195.30.94.28:8443',\n",
       "  '[2001:608:a01::3]:8443',\n",
       "  '205.185.116.116:553',\n",
       "  '8.8.8.8',\n",
       "  '[2001:4860:4860::8888]',\n",
       "  '172.105.241.93',\n",
       "  '[2400:8902::f03c:91ff:feed:220b]',\n",
       "  '83.77.85.7:8443',\n",
       "  '[2a02:1205:34d5:5070:b26e:bfff:fe1d:e19b]:8443',\n",
       "  '174.138.21.128',\n",
       "  '174.138.29.175',\n",
       "  '[2400:6180:0:d0::5f73:4001]',\n",
       "  '[2400:6180:0:d0::5f6e:4001]',\n",
       "  '103.2.57.5',\n",
       "  '172.104.93.80:1443',\n",
       "  '172.104.93.80',\n",
       "  '[2400:8902::f03c:91ff:feda:c514]',\n",
       "  '[2400:8902::f03c:91ff:feda:c514]:1443',\n",
       "  '104.28.28.34',\n",
       "  '[2606:4700:30::681c:1d22]',\n",
       "  '51.158.147.50',\n",
       "  '209.250.241.25:443',\n",
       "  '[2a05:f480:1400:436:5400:2ff:feb8:8d1c]:443',\n",
       "  '45.90.28.0',\n",
       "  '151.80.222.79:443',\n",
       "  '5.189.170.196:465',\n",
       "  '198.100.148.224:443',\n",
       "  '142.4.204.111',\n",
       "  '[2607:5300:120:a8a:142:4:204:111]',\n",
       "  '142.4.205.47:443',\n",
       "  '[2607:5300:120:a8a:142:4:205:47]:443',\n",
       "  '142.4.204.111:443',\n",
       "  '51.38.83.141:5353',\n",
       "  '45.76.113.31',\n",
       "  '45.76.113.31',\n",
       "  '139.99.222.72:8443',\n",
       "  '139.99.222.72',\n",
       "  '49.205.216.229:4434',\n",
       "  '149.112.112.9:8443',\n",
       "  '9.9.9.9:8443',\n",
       "  '149.112.112.10:8443',\n",
       "  '9.9.9.10:8443',\n",
       "  '[2620:fe::9]:8443',\n",
       "  '[2620:fe::fe:9]:8443',\n",
       "  '[2620:fe::fe:10]:8443',\n",
       "  '[2620:fe::10]:8443',\n",
       "  '149.112.112.9',\n",
       "  '9.9.9.9',\n",
       "  '149.112.112.10',\n",
       "  '9.9.9.10',\n",
       "  '[2620:fe::fe:9]',\n",
       "  '[2620:fe::9]',\n",
       "  '[2620:fe::fe:10]',\n",
       "  '[2620:fe::10]',\n",
       "  '173.82.232.232:853',\n",
       "  '116.203.179.248',\n",
       "  '51.15.122.250:443',\n",
       "  '[2001:bc8:1820:50d::1]:443',\n",
       "  '212.47.228.136',\n",
       "  '[2001:bc8:47b0:1a01::1]:443',\n",
       "  '104.168.247.138:4343',\n",
       "  '104.168.247.138:443',\n",
       "  '163.172.180.125:443',\n",
       "  '51.15.62.65:443',\n",
       "  '[2001:bc8:1824:170f::1]:443',\n",
       "  '178.216.201.222:2053',\n",
       "  '45.153.187.96:443',\n",
       "  '45.153.187.96:443',\n",
       "  '51.15.143.123:443',\n",
       "  '104.238.186.192:443',\n",
       "  '[2001:19f0:7402:1574:5400:2ff:fe66:2cff]:443',\n",
       "  '107.170.57.34',\n",
       "  '96.113.151.143:443',\n",
       "  '77.88.8.78:15353',\n",
       "  '104.168.247.138:4343',\n",
       "  '51.15.124.208:443',\n",
       "  '192.241.154.136:443',\n",
       "  '162.221.207.228:443',\n",
       "  '84.16.240.43:443',\n",
       "  '212.129.46.32:443',\n",
       "  '195.154.40.48:443',\n",
       "  '178.175.139.211:443',\n",
       "  '185.107.80.84:443',\n",
       "  '213.163.64.208:443',\n",
       "  '109.71.42.228:443',\n",
       "  '128.127.104.108:443',\n",
       "  '27.255.77.56:443',\n",
       "  '23.19.67.116:443',\n",
       "  '64.42.181.227:443',\n",
       "  '155.254.29.113:443',\n",
       "  '37.120.147.2:443',\n",
       "  '104.255.175.2:443',\n",
       "  '209.58.147.36:443',\n",
       "  '139.59.200.116:443',\n",
       "  '[2a03:b0c0:1:e0::2e3:e001]:443',\n",
       "  '51.15.71.147:443',\n",
       "  '66.85.30.115',\n",
       "  '23.111.74.205',\n",
       "  '83.77.85.7:8443',\n",
       "  '[2a02:1205:34d5:5070:b26e:bfff:fe1d:e19b]:8443',\n",
       "  '104.238.153.46:443',\n",
       "  '137.74.223.234:443',\n",
       "  '209.250.241.25:443',\n",
       "  '[2a05:f480:1400:436:5400:2ff:feb8:8d1c]:443',\n",
       "  '139.99.222.72:8443',\n",
       "  '163.172.180.125:443',\n",
       "  '51.15.122.250:443',\n",
       "  '[2001:bc8:1820:50d::1]:443',\n",
       "  '51.15.62.65:443',\n",
       "  '[2001:bc8:1824:170f::1]:443',\n",
       "  '45.153.187.96:443',\n",
       "  '51.15.143.123:443',\n",
       "  '174.138.29.175:1443',\n",
       "  '[2400:6180:0:d0::5f73:4001]:1443',\n",
       "  '104.238.186.192:443',\n",
       "  '[2001:19f0:7402:1574:5400:2ff:fe66:2cff]:443']}"
      ]
     },
     "execution_count": 62,
     "metadata": {},
     "output_type": "execute_result"
    }
   ],
   "source": [
    "{'domains': sum((x['domains'] for x in stamps), []), 'ips': sum((x['ips'] for x in stamps), [])}"
   ]
  },
  {
   "cell_type": "markdown",
   "metadata": {},
   "source": [
    "It looks like there's a tad more formatting we need to deal with.  Some of the destinations have ports tacked onto the end of them (`doh.seby.io:8443`) which may be useful if your security stack allows you to specify domains _and_ ports, but for now let's assume that not everyone has that ability.  It also appears that the ipv6 ips are surrounded by square brackets `[]`.  Rather than fill up the last line above with even more code, let's make our code a tad bit more manageable and just create some helper functions to help us filter."
   ]
  },
  {
   "cell_type": "code",
   "execution_count": 63,
   "metadata": {},
   "outputs": [],
   "source": [
    "def massageString(s):\n",
    "    return s.replace('[','').split(']')[0] if s.startswith('[') else s.split(':')[0]\n",
    "\n",
    "def sumStamps(stamps):\n",
    "    domains = sum((list(map(massageString,x['domains'])) for x in stamps),[])\n",
    "    ips = sum((list(map(massageString,x['ips'])) for x in stamps),[])\n",
    "    return {'domains': set(domains), 'ips': set(ips)}\n",
    "\n",
    "\n",
    "    "
   ]
  },
  {
   "cell_type": "code",
   "execution_count": 64,
   "metadata": {},
   "outputs": [
    {
     "data": {
      "text/plain": [
       "{'domains': {'commons.host',\n",
       "  'dns-family.adguard.com',\n",
       "  'dns-nyc.aaflalo.me',\n",
       "  'dns.aa.net.uk',\n",
       "  'dns.aaflalo.me',\n",
       "  'dns.adguard.com',\n",
       "  'dns.alekberg.net',\n",
       "  'dns.alidns.com',\n",
       "  'dns.brahma.world',\n",
       "  'dns.cloudflare.com',\n",
       "  'dns.containerpi.com',\n",
       "  'dns.digitale-gesellschaft.ch',\n",
       "  'dns.google',\n",
       "  'dns.nextdns.io',\n",
       "  'dns.t53.de',\n",
       "  'dns.twnic.tw',\n",
       "  'dns1.dnscrypt.ca',\n",
       "  'dns2.alekberg.net',\n",
       "  'dns2.dnscrypt.ca',\n",
       "  'dns4torpnlfs2ifuz2s2yf3fc7rdmsbhm6rw75euj35pac6ap25zgqad.onion',\n",
       "  'dnsforge.de',\n",
       "  'dnsse.alekberg.net',\n",
       "  'doh-2.seby.io',\n",
       "  'doh-de.blahdns.com',\n",
       "  'doh-fi.blahdns.com',\n",
       "  'doh-ipv6.crypto.sx',\n",
       "  'doh-jp.blahdns.com',\n",
       "  'doh-sg.blahdns.com',\n",
       "  'doh.233py.com',\n",
       "  'doh.appliedprivacy.net',\n",
       "  'doh.centraleu.pi-dns.com',\n",
       "  'doh.cleanbrowsing.org',\n",
       "  'doh.crypto.sx',\n",
       "  'doh.dns.sb',\n",
       "  'doh.dnslify.com',\n",
       "  'doh.eastus.pi-dns.com',\n",
       "  'doh.familyshield.opendns.com',\n",
       "  'doh.ffmuc.net',\n",
       "  'doh.li',\n",
       "  'doh.libredns.gr',\n",
       "  'doh.northeu.pi-dns.com',\n",
       "  'doh.opendns.com',\n",
       "  'doh.powerdns.org',\n",
       "  'doh.seby.io',\n",
       "  'doh.tiar.app',\n",
       "  'doh.tiarap.org',\n",
       "  'doh.westus.pi-dns.com',\n",
       "  'doh.xfinity.com',\n",
       "  'dohtrial.att.net',\n",
       "  'ea-dns.rubyfish.cn',\n",
       "  'family.cloudflare-dns.com',\n",
       "  'fi.doh.dns.snopyta.org',\n",
       "  'i.233py.com',\n",
       "  'ibksturm.synology.me',\n",
       "  'jp.gridns.xyz',\n",
       "  'jp.tiar.app',\n",
       "  'jp.tiarap.org',\n",
       "  'odvr.nic.cz',\n",
       "  'public.dns.iij.jp',\n",
       "  'resolver-eu.lelux.fi',\n",
       "  'rumpelsepp.org',\n",
       "  'security.cloudflare-dns.com',\n",
       "  'uw-dns.rubyfish.cn'},\n",
       " 'ips': {'1.0.0.1',\n",
       "  '1.0.0.2',\n",
       "  '1.0.0.3',\n",
       "  '103.2.57.5',\n",
       "  '104.168.247.138',\n",
       "  '104.238.153.46',\n",
       "  '104.238.186.192',\n",
       "  '104.255.175.2',\n",
       "  '104.28.0.106',\n",
       "  '104.28.28.34',\n",
       "  '107.170.57.34',\n",
       "  '109.248.149.133',\n",
       "  '109.71.42.228',\n",
       "  '116.203.179.248',\n",
       "  '128.127.104.108',\n",
       "  '137.74.223.234',\n",
       "  '139.180.141.57',\n",
       "  '139.59.200.116',\n",
       "  '139.59.48.222',\n",
       "  '139.99.222.72',\n",
       "  '142.4.204.111',\n",
       "  '142.4.205.47',\n",
       "  '146.112.41.2',\n",
       "  '146.112.41.3',\n",
       "  '149.112.112.10',\n",
       "  '149.112.112.9',\n",
       "  '149.56.228.45',\n",
       "  '151.80.222.79',\n",
       "  '155.254.29.113',\n",
       "  '159.69.198.101',\n",
       "  '162.221.207.228',\n",
       "  '163.172.180.125',\n",
       "  '167.114.220.125',\n",
       "  '167.114.84.132',\n",
       "  '168.235.81.167',\n",
       "  '172.104.93.80',\n",
       "  '172.105.241.93',\n",
       "  '173.234.56.115',\n",
       "  '173.82.232.232',\n",
       "  '174.138.21.128',\n",
       "  '174.138.29.175',\n",
       "  '176.103.130.130',\n",
       "  '176.103.130.132',\n",
       "  '176.56.236.175',\n",
       "  '176.56.237.171',\n",
       "  '176.9.93.198',\n",
       "  '178.175.139.211',\n",
       "  '178.216.201.222',\n",
       "  '185.107.80.84',\n",
       "  '185.117.118.20',\n",
       "  '185.213.26.187',\n",
       "  '185.228.168.10',\n",
       "  '185.228.168.168',\n",
       "  '185.228.168.9',\n",
       "  '185.235.81.1',\n",
       "  '185.43.135.1',\n",
       "  '185.94.193.234',\n",
       "  '185.95.218.42',\n",
       "  '185.95.218.43',\n",
       "  '192.241.154.136',\n",
       "  '195.154.40.48',\n",
       "  '195.30.94.28',\n",
       "  '198.100.148.224',\n",
       "  '2001:1448:243::dc2',\n",
       "  '2001:19f0:4400:6bed:5400:2ff:feb1:f9fa',\n",
       "  '2001:19f0:7001:3259:5400:02ff:fe71:0bc9',\n",
       "  '2001:19f0:7001:5554:5400:02ff:fe57:3077',\n",
       "  '2001:19f0:7402:1574:5400:2ff:fe66:2cff',\n",
       "  '2001:470:1f15:b80::53',\n",
       "  '2001:4860:4860::8888',\n",
       "  '2001:608:a01::3',\n",
       "  '2001:bc8:1820:50d::1',\n",
       "  '2001:bc8:1824:170f::1',\n",
       "  '2001:bc8:47b0:1a01::1',\n",
       "  '205.185.116.116',\n",
       "  '206.189.142.179',\n",
       "  '208.67.220.123',\n",
       "  '208.67.220.220',\n",
       "  '209.250.241.25',\n",
       "  '209.58.147.36',\n",
       "  '212.129.46.32',\n",
       "  '212.47.228.136',\n",
       "  '213.163.64.208',\n",
       "  '217.169.20.23',\n",
       "  '223.5.5.5',\n",
       "  '23.111.74.205',\n",
       "  '23.19.67.116',\n",
       "  '2400:6180:0:d0::5f6e:4001',\n",
       "  '2400:6180:0:d0::5f73:4001',\n",
       "  '2400:8902::f03c:91ff:feda:c514',\n",
       "  '2400:8902::f03c:91ff:feed:220b',\n",
       "  '2606:4700:30::681c:1d22',\n",
       "  '2606:4700:30::681c:6a',\n",
       "  '2606:4700:4700::1111',\n",
       "  '2606:4700:4700::1112',\n",
       "  '2607:5300:120:a8a:142:4:204:111',\n",
       "  '2607:5300:120:a8a:142:4:205:47',\n",
       "  '2607:5300:120:b9b::200',\n",
       "  '2607:5300:61:95f:7283:11d9:0f86:e689',\n",
       "  '2620:0:ccc::2',\n",
       "  '2620:119:35::35',\n",
       "  '2620:119:fc::2',\n",
       "  '2620:fe::10',\n",
       "  '2620:fe::9',\n",
       "  '2620:fe::fe:10',\n",
       "  '2620:fe::fe:9',\n",
       "  '27.255.77.56',\n",
       "  '2a00:5a60::ad2:0ff',\n",
       "  '2a00:5a60::bad2:0ff',\n",
       "  '2a00:d880:3:1::a6c1:2e89',\n",
       "  '2a01:4f8:1c0c:8233::1',\n",
       "  '2a01:4f8:1c17:4df8::1',\n",
       "  '2a01:4f8:1c1c:6b4b::1',\n",
       "  '2a01:4f8:c0c:9255::1',\n",
       "  '2a01:4f9:2a:1919::21',\n",
       "  '2a01:4f9:c010:43ce::1',\n",
       "  '2a01:4f9:c01f:4::abcd',\n",
       "  '2a02:1205:34d5:5070:b26e:bfff:fe1d:e19b',\n",
       "  '2a03:b0c0:1:e0::2e3:e001',\n",
       "  '2a04:bdc7:100:70::abcd',\n",
       "  '2a05:f480:1400:436:5400:2ff:feb8:8d1c',\n",
       "  '2a05:fc84::42',\n",
       "  '2a05:fc84::43',\n",
       "  '2a0d:2a00:1::',\n",
       "  '2a0d:2a00:1::1',\n",
       "  '2a0d:5600:33:3::abcd',\n",
       "  '2c0f:fda8:5::2ed1:d2ec',\n",
       "  '37.120.147.2',\n",
       "  '41.79.69.13',\n",
       "  '45.153.187.96',\n",
       "  '45.32.55.94',\n",
       "  '45.67.219.208',\n",
       "  '45.76.113.31',\n",
       "  '45.77.180.10',\n",
       "  '45.90.28.0',\n",
       "  '49.205.216.229',\n",
       "  '5.189.170.196',\n",
       "  '5.254.96.195',\n",
       "  '51.15.122.250',\n",
       "  '51.15.124.208',\n",
       "  '51.15.143.123',\n",
       "  '51.15.62.65',\n",
       "  '51.15.71.147',\n",
       "  '51.158.147.50',\n",
       "  '51.38.83.141',\n",
       "  '64.120.5.251',\n",
       "  '64.42.181.227',\n",
       "  '66.85.30.115',\n",
       "  '77.66.84.233',\n",
       "  '77.88.8.78',\n",
       "  '78.47.64.161',\n",
       "  '8.20.247.2',\n",
       "  '8.8.8.8',\n",
       "  '81.17.31.34',\n",
       "  '83.77.85.7',\n",
       "  '84.16.240.43',\n",
       "  '88.198.91.187',\n",
       "  '9.9.9.10',\n",
       "  '9.9.9.9',\n",
       "  '93.95.226.165',\n",
       "  '94.130.224.114',\n",
       "  '95.216.181.228',\n",
       "  '95.216.212.177',\n",
       "  '95.216.229.153',\n",
       "  '96.113.151.143'}}"
      ]
     },
     "execution_count": 64,
     "metadata": {},
     "output_type": "execute_result"
    }
   ],
   "source": [
    "results = sumStamps(stamps)\n",
    "results"
   ]
  },
  {
   "cell_type": "markdown",
   "metadata": {},
   "source": [
    "Now all that's left is to do is write those IOCs to a file."
   ]
  },
  {
   "cell_type": "code",
   "execution_count": 65,
   "metadata": {},
   "outputs": [],
   "source": [
    "with open('ips.txt','w') as f:\n",
    "    f.writelines('\\n'.join(results['ips']))\n",
    "with open('domains.txt','w') as f:\n",
    "    f.writelines('\\n'.join(results['domains']))"
   ]
  },
  {
   "cell_type": "markdown",
   "metadata": {},
   "source": [
    "Let's make sure it worked"
   ]
  },
  {
   "cell_type": "code",
   "execution_count": 66,
   "metadata": {},
   "outputs": [
    {
     "name": "stdout",
     "output_type": "stream",
     "text": [
      "1.0.0.3\r\n",
      "2a01:4f8:1c0c:8233::1\r\n",
      "37.120.147.2\r\n",
      "51.15.124.208\r\n",
      "2606:4700:30::681c:6a\r\n",
      "104.28.28.34\r\n",
      "146.112.41.2\r\n",
      "2a0d:2a00:1::\r\n",
      "174.138.21.128\r\n",
      "198.100.148.224"
     ]
    }
   ],
   "source": [
    "!tail ips.txt"
   ]
  },
  {
   "cell_type": "code",
   "execution_count": 67,
   "metadata": {},
   "outputs": [
    {
     "name": "stdout",
     "output_type": "stream",
     "text": [
      "dns.alidns.com\r\n",
      "ibksturm.synology.me\r\n",
      "dns.t53.de\r\n",
      "dns.digitale-gesellschaft.ch\r\n",
      "family.cloudflare-dns.com\r\n",
      "doh.crypto.sx\r\n",
      "dns.alekberg.net\r\n",
      "doh.233py.com\r\n",
      "dns.aaflalo.me\r\n",
      "doh-sg.blahdns.com"
     ]
    }
   ],
   "source": [
    "!tail domains.txt"
   ]
  },
  {
   "cell_type": "markdown",
   "metadata": {},
   "source": [
    "Looks like we got it.  Now you can take that and feed it into whatever tools you have in order to block, or at least detect, usage of encrypted DNS on your networks.\n",
    "\n",
    "If you have any questions, feel free to reach out to my barely followed twitter account [@SonicTheHexHog](https://twitter.com/SonicTheHexHog).  I'll post all the code below this to reduce the amount of neccesary copy/pasting."
   ]
  },
  {
   "cell_type": "code",
   "execution_count": 78,
   "metadata": {},
   "outputs": [],
   "source": [
    "import requests\n",
    "import dnsstamps\n",
    "from bs4 import BeautifulSoup\n",
    "\n",
    "def parseDnsStampFromUrl(url):\n",
    "    r = requests.get(url)\n",
    "    stamps = filter(lambda x: x.startswith('sdns://'),r.text.splitlines())\n",
    "    parsed_stamps = list(map(dnsstamps.parse, stamps))\n",
    "    domains = filter(None, map(lambda x: x.hostname, parsed_stamps))\n",
    "    ips = filter(None, map(lambda x: x.address, parsed_stamps))\n",
    "    return {'domains': list(domains),'ips': list(ips) }\n",
    "\n",
    "def getDnsStampFileUrls(url):\n",
    "    r = requests.get(url)\n",
    "    soup = BeautifulSoup(r.text, 'html.parser')\n",
    "    hrefs = map(lambda x: x.get('href'),soup.find_all('a'))\n",
    "    md_files = filter(lambda x: x.endswith('.md'), hrefs)\n",
    "    return map(lambda x: url + x, md_files)\n",
    "\n",
    "def massageString(s):\n",
    "    return s.replace('[','').split(']')[0] if s.startswith('[') else s.split(':')[0]\n",
    "\n",
    "def sumStamps(stamps):\n",
    "    domains = sum((list(map(massageString,x['domains'])) for x in stamps),[])\n",
    "    ips = sum((list(map(massageString,x['ips'])) for x in stamps),[])\n",
    "    return {'domains': set(domains), 'ips': set(ips)}\n",
    "\n",
    "def main():\n",
    "    url = \"https://download.dnscrypt.info/dnscrypt-resolvers/v2/\"\n",
    "    urls = getDnsStampFileUrls(url)\n",
    "    stamps = list(map(parseDnsStampFromUrl,urls))\n",
    "    results = sumStamps(stamps)\n",
    "    with open('ips.txt','w') as f:\n",
    "        f.writelines('\\n'.join(results['ips']))\n",
    "    with open('domains.txt','w') as f:\n",
    "        f.writelines('\\n'.join(results['domains']))\n",
    "\n",
    "if __name__ == '__main__':\n",
    "    main()\n"
   ]
  },
  {
   "cell_type": "code",
   "execution_count": null,
   "metadata": {},
   "outputs": [],
   "source": []
  }
 ],
 "metadata": {
  "kernelspec": {
   "display_name": "Python 3",
   "language": "python",
   "name": "python3"
  },
  "language_info": {
   "codemirror_mode": {
    "name": "ipython",
    "version": 3
   },
   "file_extension": ".py",
   "mimetype": "text/x-python",
   "name": "python",
   "nbconvert_exporter": "python",
   "pygments_lexer": "ipython3",
   "version": "3.8.2"
  }
 },
 "nbformat": 4,
 "nbformat_minor": 4
}
